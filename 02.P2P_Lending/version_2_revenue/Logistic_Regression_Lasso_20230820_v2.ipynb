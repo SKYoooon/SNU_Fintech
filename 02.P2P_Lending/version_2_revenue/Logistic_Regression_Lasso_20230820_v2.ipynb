{
 "cells": [
  {
   "cell_type": "code",
   "execution_count": 1,
   "metadata": {
    "id": "vh3XufyVmJDr"
   },
   "outputs": [],
   "source": [
    "# 필요한 라이브러리 설치\n",
    "import math\n",
    "import pandas as pd\n",
    "import numpy as np\n",
    "import matplotlib.pyplot as plt\n",
    "import seaborn as sns\n",
    "\n",
    "from sklearn.linear_model import LogisticRegression\n",
    "from sklearn.model_selection import train_test_split\n",
    "from sklearn.preprocessing import StandardScaler\n",
    "from sklearn.metrics import confusion_matrix\n",
    "from sklearn.metrics import roc_curve"
   ]
  },
  {
   "cell_type": "markdown",
   "metadata": {
    "id": "tj9JX3p0okJN"
   },
   "source": [
    "## 주어진 data (lendingclub_train.dta) 전처리"
   ]
  },
  {
   "cell_type": "code",
   "execution_count": 2,
   "metadata": {
    "id": "d6cy36ennptj"
   },
   "outputs": [],
   "source": [
    "# 데이터 파일 불러오기\n",
    "file_name = '/Users/limdonggeon/Desktop/SNU_FINTECH/Statics_DataScience_Statics/team_project/lendingclub_train.dta'\n",
    "df = pd.read_stata(file_name)\n"
   ]
  },
  {
   "cell_type": "code",
   "execution_count": 3,
   "metadata": {
    "colab": {
     "base_uri": "https://localhost:8080/"
    },
    "executionInfo": {
     "elapsed": 12,
     "status": "ok",
     "timestamp": 1691078611065,
     "user": {
      "displayName": "임동건",
      "userId": "08266635345439810515"
     },
     "user_tz": -540
    },
    "id": "u2z3vKbqn5NW",
    "outputId": "12272e5e-a40a-4c51-c220-d698a2c01178"
   },
   "outputs": [
    {
     "data": {
      "text/plain": [
       "(874335, 334)"
      ]
     },
     "execution_count": 3,
     "metadata": {},
     "output_type": "execute_result"
    }
   ],
   "source": [
    "df.shape\n"
   ]
  },
  {
   "cell_type": "code",
   "execution_count": 4,
   "metadata": {
    "colab": {
     "base_uri": "https://localhost:8080/"
    },
    "executionInfo": {
     "elapsed": 10,
     "status": "ok",
     "timestamp": 1691078611065,
     "user": {
      "displayName": "임동건",
      "userId": "08266635345439810515"
     },
     "user_tz": -540
    },
    "id": "QIVzTtSRH4Vi",
    "outputId": "cc48f178-97f8-49dd-f8b2-6630919a742a",
    "scrolled": true
   },
   "outputs": [
    {
     "name": "stdout",
     "output_type": "stream",
     "text": [
      "Index(['index', 'loan_amnt', 'funded_amnt', 'funded_amnt_inv', 'int_rate',\n",
      "       'installment', 'annual_inc', 'dti', 'delinq_2yrs', 'fico_range_low',\n",
      "       ...\n",
      "       'mths_since_recent_revol_delinq2', 'mths_since_recent_revol_delinq3',\n",
      "       'mths_since_recent_revol_delinq4', 'mths_since_recent_revol_delinq5',\n",
      "       'mths_since_recent_revol_delinq6', 'mths_since_recent_revol_delinq7',\n",
      "       'mths_since_recent_revol_delinq8', 'mths_since_recent_revol_delinq9',\n",
      "       'mths_since_recent_revol_delinq10', 'mths_since_recent_revol_delinq11'],\n",
      "      dtype='object', length=334)\n"
     ]
    }
   ],
   "source": [
    "print(df.columns)\n"
   ]
  },
  {
   "cell_type": "code",
   "execution_count": 5,
   "metadata": {
    "colab": {
     "base_uri": "https://localhost:8080/"
    },
    "executionInfo": {
     "elapsed": 489,
     "status": "ok",
     "timestamp": 1691078611548,
     "user": {
      "displayName": "임동건",
      "userId": "08266635345439810515"
     },
     "user_tz": -540
    },
    "id": "hogyDDiE6t20",
    "outputId": "a9652c95-32ad-4446-f6b5-2cbc50a03ae6"
   },
   "outputs": [
    {
     "name": "stderr",
     "output_type": "stream",
     "text": [
      "/var/folders/fs/zfypqyv96hs22x794hfx0ycm0000gn/T/ipykernel_12647/4175635106.py:2: PerformanceWarning: DataFrame is highly fragmented.  This is usually the result of calling `frame.insert` many times, which has poor performance.  Consider joining all columns at once using pd.concat(axis=1) instead. To get a de-fragmented frame, use `newframe = frame.copy()`\n",
      "  df['loan_not_access'] = np.where(df['funded_amnt'] > df['total_pymnt'], 1, 0)\n"
     ]
    },
    {
     "data": {
      "text/plain": [
       "122790"
      ]
     },
     "execution_count": 5,
     "metadata": {},
     "output_type": "execute_result"
    }
   ],
   "source": [
    "# 데이터 파일에서 돈을 벌어다 주는 loan_not_access 설정\n",
    "df['loan_not_access'] = np.where(df['funded_amnt'] > df['total_pymnt'], 1, 0)\n",
    "len(df[df['loan_not_access']==1])\n"
   ]
  },
  {
   "cell_type": "code",
   "execution_count": 6,
   "metadata": {
    "id": "PE_HCpf66tli"
   },
   "outputs": [],
   "source": [
    "# 이상치라고 판단되는 값들 제거 ( EDA 총정리 코드에서 인덱스 확인 가능 )\n",
    "new_df = df.copy()\n",
    "delete_index = [331118, 829091, 474252, 733418]\n",
    "for k in range(df.shape[0]):\n",
    "    if df['index'].values[k] in delete_index:\n",
    "        new_df = new_df.drop(k, axis=0)\n"
   ]
  },
  {
   "cell_type": "code",
   "execution_count": 7,
   "metadata": {
    "id": "-Z0eUTi86tbQ"
   },
   "outputs": [],
   "source": [
    "# 원래 데이터에서 사전 변수라고 생각하는 데이터만 따로 뽑아 모델을 만들 데이터 셋 구축\n",
    "df_data= new_df[['loan_not_access', 'loan_amnt', 'int_rate', 'annual_inc', 'dti', 'delinq_2yrs', 'open_acc', 'fico_range_low','pub_rec', 'revol_bal',\n",
    "                 'revol_util', 'total_acc', 'acc_now_delinq', 'tot_coll_amt', 'tot_cur_bal', 'chargeoff_within_12_mths', 'pub_rec_bankruptcies', 'tax_liens',\n",
    "                 'emp_length1', 'emp_length2', 'emp_length3', 'emp_length4', 'emp_length5', 'emp_length6', 'emp_length7', 'emp_length8', 'emp_length9', 'emp_length10', 'emp_length11', 'emp_length12',\n",
    "                 'home_ownership1', 'home_ownership2', 'home_ownership3', 'home_ownership4', 'home_ownership5', 'home_ownership6', 'verification_status1', 'verification_status2', 'verification_status3',\n",
    "                 'purpose1', 'purpose2', 'purpose3', 'purpose4', 'purpose5', 'purpose6', 'purpose7', 'purpose8', 'purpose9', 'purpose10', 'purpose11', 'purpose12', 'purpose13', 'purpose14',\n",
    "                 'addr_state1', 'addr_state2', 'addr_state3', 'addr_state4', 'addr_state5', 'addr_state6', 'addr_state7', 'addr_state8', 'addr_state9', 'addr_state10',\n",
    "                 'addr_state11', 'addr_state12', 'addr_state13', 'addr_state14', 'addr_state15', 'addr_state16', 'addr_state17', 'addr_state18', 'addr_state19', 'addr_state20',\n",
    "                 'addr_state21', 'addr_state22', 'addr_state23', 'addr_state24', 'addr_state25', 'addr_state26', 'addr_state27', 'addr_state28', 'addr_state29', 'addr_state30',\n",
    "                 'addr_state31', 'addr_state32', 'addr_state33', 'addr_state34', 'addr_state35', 'addr_state36', 'addr_state37', 'addr_state38', 'addr_state39', 'addr_state40',\n",
    "                 'addr_state41', 'addr_state42', 'addr_state43', 'addr_state44', 'addr_state45', 'addr_state46', 'addr_state47', 'addr_state48', 'addr_state49', 'addr_state50',\n",
    "                 'addr_state51', 'initial_list_status1', 'initial_list_status2', 'term1']]\n"
   ]
  },
  {
   "cell_type": "code",
   "execution_count": 8,
   "metadata": {
    "id": "9D1zkw2v9J-h"
   },
   "outputs": [],
   "source": [
    "# 모델의 정확도를 높이기 위해 0의 값을 갖는 비율이 0.3% 이하를 갖는 컬럼을 제거\n",
    "for i in df_data.columns:\n",
    "    if len(df_data[df_data[i] == 0])/len(df_data[i]) > 0.997:\n",
    "        df_data = df_data.drop(i, axis=1)\n"
   ]
  },
  {
   "cell_type": "code",
   "execution_count": 9,
   "metadata": {
    "id": "JBFQR5jSokJQ",
    "outputId": "170ebd95-1946-44bb-f9a1-80d3c4f143af"
   },
   "outputs": [
    {
     "data": {
      "text/plain": [
       "Index(['loan_not_access', 'loan_amnt', 'int_rate', 'annual_inc', 'dti',\n",
       "       'delinq_2yrs', 'open_acc', 'fico_range_low', 'pub_rec', 'revol_bal',\n",
       "       'revol_util', 'total_acc', 'acc_now_delinq', 'tot_coll_amt',\n",
       "       'tot_cur_bal', 'chargeoff_within_12_mths', 'pub_rec_bankruptcies',\n",
       "       'tax_liens', 'emp_length1', 'emp_length2', 'emp_length3', 'emp_length4',\n",
       "       'emp_length5', 'emp_length6', 'emp_length7', 'emp_length8',\n",
       "       'emp_length9', 'emp_length10', 'emp_length11', 'emp_length12',\n",
       "       'home_ownership2', 'home_ownership5', 'home_ownership6',\n",
       "       'verification_status1', 'verification_status2', 'verification_status3',\n",
       "       'purpose1', 'purpose2', 'purpose3', 'purpose5', 'purpose6', 'purpose7',\n",
       "       'purpose8', 'purpose9', 'purpose10', 'purpose12', 'purpose13',\n",
       "       'addr_state2', 'addr_state3', 'addr_state4', 'addr_state5',\n",
       "       'addr_state6', 'addr_state7', 'addr_state10', 'addr_state11',\n",
       "       'addr_state12', 'addr_state15', 'addr_state16', 'addr_state17',\n",
       "       'addr_state18', 'addr_state19', 'addr_state20', 'addr_state21',\n",
       "       'addr_state23', 'addr_state24', 'addr_state25', 'addr_state26',\n",
       "       'addr_state28', 'addr_state31', 'addr_state32', 'addr_state33',\n",
       "       'addr_state34', 'addr_state35', 'addr_state36', 'addr_state37',\n",
       "       'addr_state38', 'addr_state39', 'addr_state40', 'addr_state41',\n",
       "       'addr_state43', 'addr_state44', 'addr_state45', 'addr_state46',\n",
       "       'addr_state48', 'addr_state49', 'addr_state50', 'initial_list_status1',\n",
       "       'initial_list_status2', 'term1'],\n",
       "      dtype='object')"
      ]
     },
     "execution_count": 9,
     "metadata": {},
     "output_type": "execute_result"
    }
   ],
   "source": [
    "df_data.columns\n"
   ]
  },
  {
   "cell_type": "markdown",
   "metadata": {
    "id": "03SgOu5CmwM7"
   },
   "source": [
    "## 모델 : 로지스틱 회귀 - penalty = l1 (Lasso)"
   ]
  },
  {
   "cell_type": "code",
   "execution_count": 10,
   "metadata": {
    "id": "acRcFQPqHBRI"
   },
   "outputs": [],
   "source": [
    "# X와 y로 데이터 분리\n",
    "X = df_data.drop('loan_not_access', axis=1)\n",
    "y = df_data['loan_not_access']\n",
    "\n",
    "# 전체 데이터셋을 train:validation:test 셋을 6:2:2로 분리\n",
    "# 우선 전체 데이터를 train과 나머지로 분리 (train: 나머지 = 6:4)\n",
    "X_train_1, X_temp, y_train, y_temp = train_test_split(X, y, test_size=0.4, random_state=0, stratify=y)\n",
    "\n",
    "# 나머지 데이터를 validation과 test로 분리 (validation: test = 1:1)\n",
    "X_val_1, X_test_1, y_val, y_test = train_test_split(X_temp, y_temp, test_size=0.5, random_state=0, stratify=y_temp)\n",
    "\n",
    "\n",
    "# 수치형 변수들만 scaling 필요\n",
    "numerical_cols = ['loan_amnt', 'int_rate', 'annual_inc', 'dti', 'delinq_2yrs', 'open_acc', 'fico_range_low',\n",
    "        'pub_rec', 'revol_bal', 'revol_util', 'total_acc', 'acc_now_delinq', 'tot_coll_amt', 'tot_cur_bal', 'chargeoff_within_12_mths', 'pub_rec_bankruptcies', 'tax_liens']\n",
    "\n",
    "# 수치형 데이터 scaling\n",
    "scaler = StandardScaler()\n",
    "X_train_numeric = scaler.fit_transform(X_train_1[numerical_cols])\n",
    "X_val_numeric = scaler.transform(X_val_1[numerical_cols])            # train set과 scaling 똑같이 적용\n",
    "X_test_numeric = scaler.transform(X_test_1[numerical_cols])          # train set과 scaling 똑같이 적용\n",
    "\n",
    "# 더미변수도 추가해 train, validatiaon, test 데이터 셋 구성 다시하기\n",
    "X_train = np.hstack((X_train_numeric, X_train_1.drop(numerical_cols, axis = 1)))\n",
    "X_val = np.hstack((X_val_numeric, X_val_1.drop(numerical_cols, axis = 1)))\n",
    "X_test = np.hstack((X_test_numeric, X_test_1.drop(numerical_cols, axis = 1)))\n"
   ]
  },
  {
   "cell_type": "code",
   "execution_count": 11,
   "metadata": {
    "id": "dPfQFPLiokJR",
    "outputId": "4bb64f9f-8391-44a7-ccd8-858e5fe830e3"
   },
   "outputs": [
    {
     "data": {
      "text/plain": [
       "((524598, 88), (174866, 88), (174867, 88), (524598,), (174866,), (174867,))"
      ]
     },
     "execution_count": 11,
     "metadata": {},
     "output_type": "execute_result"
    }
   ],
   "source": [
    "# 나눈 데이터 셋 크기 확인\n",
    "X_train.shape, X_val.shape, X_test.shape, y_train.shape, y_val.shape, y_test.shape\n"
   ]
  },
  {
   "cell_type": "code",
   "execution_count": 12,
   "metadata": {},
   "outputs": [
    {
     "data": {
      "text/html": [
       "<style>#sk-container-id-1 {color: black;background-color: white;}#sk-container-id-1 pre{padding: 0;}#sk-container-id-1 div.sk-toggleable {background-color: white;}#sk-container-id-1 label.sk-toggleable__label {cursor: pointer;display: block;width: 100%;margin-bottom: 0;padding: 0.3em;box-sizing: border-box;text-align: center;}#sk-container-id-1 label.sk-toggleable__label-arrow:before {content: \"▸\";float: left;margin-right: 0.25em;color: #696969;}#sk-container-id-1 label.sk-toggleable__label-arrow:hover:before {color: black;}#sk-container-id-1 div.sk-estimator:hover label.sk-toggleable__label-arrow:before {color: black;}#sk-container-id-1 div.sk-toggleable__content {max-height: 0;max-width: 0;overflow: hidden;text-align: left;background-color: #f0f8ff;}#sk-container-id-1 div.sk-toggleable__content pre {margin: 0.2em;color: black;border-radius: 0.25em;background-color: #f0f8ff;}#sk-container-id-1 input.sk-toggleable__control:checked~div.sk-toggleable__content {max-height: 200px;max-width: 100%;overflow: auto;}#sk-container-id-1 input.sk-toggleable__control:checked~label.sk-toggleable__label-arrow:before {content: \"▾\";}#sk-container-id-1 div.sk-estimator input.sk-toggleable__control:checked~label.sk-toggleable__label {background-color: #d4ebff;}#sk-container-id-1 div.sk-label input.sk-toggleable__control:checked~label.sk-toggleable__label {background-color: #d4ebff;}#sk-container-id-1 input.sk-hidden--visually {border: 0;clip: rect(1px 1px 1px 1px);clip: rect(1px, 1px, 1px, 1px);height: 1px;margin: -1px;overflow: hidden;padding: 0;position: absolute;width: 1px;}#sk-container-id-1 div.sk-estimator {font-family: monospace;background-color: #f0f8ff;border: 1px dotted black;border-radius: 0.25em;box-sizing: border-box;margin-bottom: 0.5em;}#sk-container-id-1 div.sk-estimator:hover {background-color: #d4ebff;}#sk-container-id-1 div.sk-parallel-item::after {content: \"\";width: 100%;border-bottom: 1px solid gray;flex-grow: 1;}#sk-container-id-1 div.sk-label:hover label.sk-toggleable__label {background-color: #d4ebff;}#sk-container-id-1 div.sk-serial::before {content: \"\";position: absolute;border-left: 1px solid gray;box-sizing: border-box;top: 0;bottom: 0;left: 50%;z-index: 0;}#sk-container-id-1 div.sk-serial {display: flex;flex-direction: column;align-items: center;background-color: white;padding-right: 0.2em;padding-left: 0.2em;position: relative;}#sk-container-id-1 div.sk-item {position: relative;z-index: 1;}#sk-container-id-1 div.sk-parallel {display: flex;align-items: stretch;justify-content: center;background-color: white;position: relative;}#sk-container-id-1 div.sk-item::before, #sk-container-id-1 div.sk-parallel-item::before {content: \"\";position: absolute;border-left: 1px solid gray;box-sizing: border-box;top: 0;bottom: 0;left: 50%;z-index: -1;}#sk-container-id-1 div.sk-parallel-item {display: flex;flex-direction: column;z-index: 1;position: relative;background-color: white;}#sk-container-id-1 div.sk-parallel-item:first-child::after {align-self: flex-end;width: 50%;}#sk-container-id-1 div.sk-parallel-item:last-child::after {align-self: flex-start;width: 50%;}#sk-container-id-1 div.sk-parallel-item:only-child::after {width: 0;}#sk-container-id-1 div.sk-dashed-wrapped {border: 1px dashed gray;margin: 0 0.4em 0.5em 0.4em;box-sizing: border-box;padding-bottom: 0.4em;background-color: white;}#sk-container-id-1 div.sk-label label {font-family: monospace;font-weight: bold;display: inline-block;line-height: 1.2em;}#sk-container-id-1 div.sk-label-container {text-align: center;}#sk-container-id-1 div.sk-container {/* jupyter's `normalize.less` sets `[hidden] { display: none; }` but bootstrap.min.css set `[hidden] { display: none !important; }` so we also need the `!important` here to be able to override the default hidden behavior on the sphinx rendered scikit-learn.org. See: https://github.com/scikit-learn/scikit-learn/issues/21755 */display: inline-block !important;position: relative;}#sk-container-id-1 div.sk-text-repr-fallback {display: none;}</style><div id=\"sk-container-id-1\" class=\"sk-top-container\"><div class=\"sk-text-repr-fallback\"><pre>LogisticRegression(max_iter=10000, penalty=&#x27;l1&#x27;, random_state=0, solver=&#x27;saga&#x27;)</pre><b>In a Jupyter environment, please rerun this cell to show the HTML representation or trust the notebook. <br />On GitHub, the HTML representation is unable to render, please try loading this page with nbviewer.org.</b></div><div class=\"sk-container\" hidden><div class=\"sk-item\"><div class=\"sk-estimator sk-toggleable\"><input class=\"sk-toggleable__control sk-hidden--visually\" id=\"sk-estimator-id-1\" type=\"checkbox\" checked><label for=\"sk-estimator-id-1\" class=\"sk-toggleable__label sk-toggleable__label-arrow\">LogisticRegression</label><div class=\"sk-toggleable__content\"><pre>LogisticRegression(max_iter=10000, penalty=&#x27;l1&#x27;, random_state=0, solver=&#x27;saga&#x27;)</pre></div></div></div></div></div>"
      ],
      "text/plain": [
       "LogisticRegression(max_iter=10000, penalty='l1', random_state=0, solver='saga')"
      ]
     },
     "execution_count": 12,
     "metadata": {},
     "output_type": "execute_result"
    }
   ],
   "source": [
    "# mse를 최소화하게 찾은 Hyper Parameter ( alpha ) 를 넣어 best_lasso 설정\n",
    "best_lasso = LogisticRegression(penalty='l1', C=1.0, solver='saga', random_state=0, max_iter = 10000)\n",
    "best_lasso.fit(X_train, y_train)"
   ]
  },
  {
   "cell_type": "markdown",
   "metadata": {},
   "source": [
    "## 수익액 기준 threshold 설정"
   ]
  },
  {
   "cell_type": "code",
   "execution_count": 13,
   "metadata": {
    "colab": {
     "base_uri": "https://localhost:8080/"
    },
    "executionInfo": {
     "elapsed": 4,
     "status": "ok",
     "timestamp": 1691078667797,
     "user": {
      "displayName": "임동건",
      "userId": "08266635345439810515"
     },
     "user_tz": -540
    },
    "id": "G9jEAoa7R7AU",
    "outputId": "12c9d395-181c-4438-d3d1-9d5e2f935b19"
   },
   "outputs": [
    {
     "name": "stdout",
     "output_type": "stream",
     "text": [
      "Best Threshold: 0.4810365782394292\n",
      "Best Profit: 217892097.62657356\n"
     ]
    },
    {
     "data": {
      "image/png": "[encoded data removed]",
      "text/plain": [
       "<Figure size 1000x600 with 1 Axes>"
      ]
     },
     "metadata": {},
     "output_type": "display_data"
    }
   ],
   "source": [
    "# Validataion set을 사용해 Parameter (threshold) 찾기\n",
    "# net_profit(수익액)가 최대가 되게하는 optimal threshold 찾기\n",
    "\n",
    "# Validation set에 모델 적용\n",
    "y_pred_prob = best_lasso.predict_proba(X_val)[:,1]\n",
    "\n",
    "# y_pred_prob값의 minimum부터 maximum까지 100개의 threshold 후보 생성\n",
    "threshold_list = np.linspace(min(y_pred_prob), max(y_pred_prob), num=100)\n",
    "\n",
    "# 최적화 부분\n",
    "best_threshold = None\n",
    "best_profit = float('-inf')\n",
    "profit = []\n",
    "\n",
    "for threshold in threshold_list:\n",
    "    y_pred = (y_pred_prob >= threshold).astype(int)\n",
    "    df_val_loan_access = df.loc[y_val[y_pred == 0].index]\n",
    "    total_pymnt = sum(df_val_loan_access['total_pymnt'])\n",
    "    funded_amnt = sum(df_val_loan_access['funded_amnt'])\n",
    "    net_profit = total_pymnt - funded_amnt\n",
    "    profit.append(net_profit)\n",
    "\n",
    "    if net_profit > best_profit:\n",
    "        best_profit = net_profit\n",
    "        best_threshold = threshold\n",
    "\n",
    "print(\"Best Threshold:\", best_threshold)\n",
    "print(\"Best Profit:\", best_profit)\n",
    "\n",
    "# 시각화\n",
    "plt.figure(figsize=(10, 6))\n",
    "plt.plot(threshold_list, profit, marker='o')\n",
    "plt.xlabel('Threshold')\n",
    "plt.ylabel('Net Profit')\n",
    "plt.title('Threshold vs. Net Profit')\n",
    "plt.grid(True)\n",
    "plt.show()"
   ]
  },
  {
   "cell_type": "code",
   "execution_count": 14,
   "metadata": {
    "colab": {
     "base_uri": "https://localhost:8080/",
     "height": 489
    },
    "executionInfo": {
     "elapsed": 689,
     "status": "ok",
     "timestamp": 1691078668484,
     "user": {
      "displayName": "임동건",
      "userId": "08266635345439810515"
     },
     "user_tz": -540
    },
    "id": "qlM2Z3aHyYsq",
    "outputId": "9d4940e2-15bb-491e-c081-e9673b2199e2"
   },
   "outputs": [
    {
     "data": {
      "image/png": "[encoded data removed]",
      "text/plain": [
       "<Figure size 640x480 with 2 Axes>"
      ]
     },
     "metadata": {},
     "output_type": "display_data"
    }
   ],
   "source": [
    "# Test set을 사용해 결과 확인\n",
    "\n",
    "# Test set을 모델에 적용\n",
    "y_pred1 = (best_lasso.predict_proba(X_test)[:,1] > best_threshold).astype(int)\n",
    "\n",
    "# Test set을 모델에 적용시킨 결과 Confusion Matrix 그리기\n",
    "cm = confusion_matrix(y_test, y_pred1)\n",
    "sns.heatmap(cm, annot=True, fmt='d', cmap='Blues')\n",
    "plt.xlabel('Predicted Labels')\n",
    "plt.ylabel('True Labels')\n",
    "plt.title('Confusion Matrix')\n",
    "plt.show()"
   ]
  },
  {
   "cell_type": "code",
   "execution_count": 15,
   "metadata": {
    "id": "cShgwBeTR5mv",
    "outputId": "e93b6ee2-4668-41e5-9d77-b409757fa383",
    "scrolled": true
   },
   "outputs": [
    {
     "name": "stdout",
     "output_type": "stream",
     "text": [
      "accuracy     :  0.8594703403157828\n",
      "sensitivity  :  0.007044547601596222\n",
      "specificity  :  0.9987425902640561\n",
      "f1_score     :  0.6464657869737023\n"
     ]
    }
   ],
   "source": [
    "# 모델의 평가 지표 확인\n",
    "\n",
    "tn = cm[0][0]\n",
    "fp = cm[0][1]\n",
    "fn = cm[1][0]\n",
    "tp = cm[1][1]\n",
    "\n",
    "# accuracy, sensitivity, specificity, f1_score\n",
    "accuracy = (tn + tp)/(tn + fn + fp + tp)\n",
    "sensitivity = tp/(tp+fn)\n",
    "specificity = tn/(tn+fp)\n",
    "precision = tp / (tp+fp)\n",
    "recall = specificity\n",
    "f1_score = 2*precision*recall / (precision + recall)\n",
    "\n",
    "print('accuracy     : ', accuracy)\n",
    "print('sensitivity  : ', sensitivity)\n",
    "print('specificity  : ', specificity)\n",
    "print('f1_score     : ', f1_score)\n"
   ]
  },
  {
   "cell_type": "markdown",
   "metadata": {
    "id": "EYQLZ83lokJT"
   },
   "source": [
    "## 주어진 data (lendingclub_train.dta) 이익금 확인"
   ]
  },
  {
   "cell_type": "code",
   "execution_count": 16,
   "metadata": {
    "id": "ldLBtUlY0-Ds"
   },
   "outputs": [],
   "source": [
    "# 이익금을 확인하기 위해 사후 변수들이 필요해 원래 데이터 파일 불러오기\n",
    "file_name2 = '/Users/limdonggeon/Desktop/SNU_FINTECH/Statics_DataScience_Statics/team_project/lendingclub_train.dta'\n",
    "df_all = pd.read_stata(file_name2)\n"
   ]
  },
  {
   "cell_type": "code",
   "execution_count": 17,
   "metadata": {
    "colab": {
     "base_uri": "https://localhost:8080/"
    },
    "executionInfo": {
     "elapsed": 467,
     "status": "ok",
     "timestamp": 1691078675262,
     "user": {
      "displayName": "임동건",
      "userId": "08266635345439810515"
     },
     "user_tz": -540
    },
    "id": "SUdwBA8A0SWB",
    "outputId": "d724e4dc-e0e4-41e1-f0dd-414777fd2078"
   },
   "outputs": [
    {
     "name": "stdout",
     "output_type": "stream",
     "text": [
      "1.0908315080802833\n",
      "13013512253.598719\n",
      "11929901325\n",
      "1083610928.5987186\n"
     ]
    }
   ],
   "source": [
    "# 전체 데이터셋에서\n",
    "# 수익률, 총 받은 금액, 총 투자한 금액, 총 순이익\n",
    "print(sum(df_all['total_pymnt'])/sum(df_all['funded_amnt']))\n",
    "print(sum(df_all['total_pymnt']))\n",
    "print(sum(df_all['funded_amnt']))\n",
    "print(sum(df_all['total_pymnt']) - sum(df_all['funded_amnt']))\n"
   ]
  },
  {
   "cell_type": "code",
   "execution_count": 18,
   "metadata": {
    "colab": {
     "base_uri": "https://localhost:8080/"
    },
    "executionInfo": {
     "elapsed": 924,
     "status": "ok",
     "timestamp": 1691078676185,
     "user": {
      "displayName": "임동건",
      "userId": "08266635345439810515"
     },
     "user_tz": -540
    },
    "id": "uctRawzEzHEZ",
    "outputId": "be16874f-41a9-4b97-8481-323dfa9cc093"
   },
   "outputs": [
    {
     "name": "stdout",
     "output_type": "stream",
     "text": [
      "1.0905922431935813\n",
      "2596459846.307935\n",
      "2380779675\n",
      "215680171.30793524\n"
     ]
    }
   ],
   "source": [
    "# 테스트 데이터셋에서\n",
    "# 수익률, 총 받은 금액, 총 투자한 금액, 총 순이익\n",
    "df_test = df_all.loc[y_test.index]\n",
    "print(sum(df_test['total_pymnt'])/sum(df_test['funded_amnt']))\n",
    "print(sum(df_test['total_pymnt']))\n",
    "print(sum(df_test['funded_amnt']))\n",
    "print(sum(df_test['total_pymnt']) - sum(df_test['funded_amnt']))\n"
   ]
  },
  {
   "cell_type": "code",
   "execution_count": 19,
   "metadata": {
    "colab": {
     "base_uri": "https://localhost:8080/"
    },
    "executionInfo": {
     "elapsed": 478,
     "status": "ok",
     "timestamp": 1691078676658,
     "user": {
      "displayName": "임동건",
      "userId": "08266635345439810515"
     },
     "user_tz": -540
    },
    "id": "KYmadYVYzJBZ",
    "outputId": "e2151006-fbeb-4f8f-faa2-a233b785ab7b"
   },
   "outputs": [
    {
     "name": "stdout",
     "output_type": "stream",
     "text": [
      "1.0909166275509043\n",
      "2590253513.0533795\n",
      "2374382650\n",
      "215870863.05337954\n"
     ]
    }
   ],
   "source": [
    "# 테스트 데이터셋에서 모델링한 결과\n",
    "# 수익률, 총 받은 금액, 총 투자한 금액, 총 순이익\n",
    "df_test_loan_access = df_all.loc[y_test[y_pred1 == 0].index]\n",
    "print(sum(df_test_loan_access['total_pymnt'])/sum(df_test_loan_access['funded_amnt']))\n",
    "print(sum(df_test_loan_access['total_pymnt']))\n",
    "print(sum(df_test_loan_access['funded_amnt']))\n",
    "print(sum(df_test_loan_access['total_pymnt']) - sum(df_test_loan_access['funded_amnt']))\n"
   ]
  },
  {
   "cell_type": "markdown",
   "metadata": {
    "id": "fM_csxYTokJU"
   },
   "source": [
    "## Out of data (lendingclub_test.dta)  적용"
   ]
  },
  {
   "cell_type": "code",
   "execution_count": 20,
   "metadata": {
    "id": "U8PyZRe0okJU"
   },
   "outputs": [],
   "source": [
    "# Out of Data 파일 불러오기\n",
    "file_name_out_of_set = '/Users/limdonggeon/Desktop/SNU_FINTECH/Statics_DataScience_Statics/team_project/lendingclub_test.dta'\n",
    "df_out_of_set = pd.read_stata(file_name_out_of_set)\n"
   ]
  },
  {
   "cell_type": "code",
   "execution_count": 21,
   "metadata": {
    "id": "Fxfatt6ookJU",
    "outputId": "713fc2f5-5dc2-4cbb-b672-cda209d8f2c3"
   },
   "outputs": [
    {
     "data": {
      "text/plain": [
       "(218584, 334)"
      ]
     },
     "execution_count": 21,
     "metadata": {},
     "output_type": "execute_result"
    }
   ],
   "source": [
    "df_out_of_set.shape"
   ]
  },
  {
   "cell_type": "code",
   "execution_count": 22,
   "metadata": {
    "id": "_wOizAsYokJU",
    "outputId": "ed987685-9e8f-4d75-f3ee-e11e2d701c2c"
   },
   "outputs": [
    {
     "name": "stderr",
     "output_type": "stream",
     "text": [
      "/var/folders/fs/zfypqyv96hs22x794hfx0ycm0000gn/T/ipykernel_12647/1095365893.py:2: PerformanceWarning: DataFrame is highly fragmented.  This is usually the result of calling `frame.insert` many times, which has poor performance.  Consider joining all columns at once using pd.concat(axis=1) instead. To get a de-fragmented frame, use `newframe = frame.copy()`\n",
      "  df_out_of_set['loan_not_access'] = np.where(df_out_of_set['funded_amnt'] > df_out_of_set['total_pymnt'], 1, 0)\n"
     ]
    },
    {
     "data": {
      "text/plain": [
       "30300"
      ]
     },
     "execution_count": 22,
     "metadata": {},
     "output_type": "execute_result"
    }
   ],
   "source": [
    "# Out of Data에서 돈을 벌어다 주는 loan_not_access 설정\n",
    "df_out_of_set['loan_not_access'] = np.where(df_out_of_set['funded_amnt'] > df_out_of_set['total_pymnt'], 1, 0)\n",
    "len(df_out_of_set[df_out_of_set['loan_not_access']==1])"
   ]
  },
  {
   "cell_type": "code",
   "execution_count": 23,
   "metadata": {
    "id": "2WhzOFFTokJU"
   },
   "outputs": [],
   "source": [
    "# 위의 데이터 셋에서 사용한 변수들만 사용\n",
    "df_out_of_set2 = df_out_of_set[df_data.columns]\n"
   ]
  },
  {
   "cell_type": "code",
   "execution_count": 24,
   "metadata": {
    "id": "JmdT4YjLokJU"
   },
   "outputs": [],
   "source": [
    "# Out of test를\n",
    "# X와 y로 데이터 분리\n",
    "X_out = df_out_of_set2.drop('loan_not_access', axis=1)\n",
    "y_out_test = df_out_of_set2['loan_not_access']\n",
    "\n",
    "# 수치형 변수들만 scaling 필요\n",
    "numerical_cols = ['loan_amnt', 'int_rate', 'annual_inc', 'dti', 'delinq_2yrs', 'open_acc', 'fico_range_low',\n",
    "        'pub_rec', 'revol_bal', 'revol_util', 'total_acc', 'acc_now_delinq', 'tot_coll_amt', 'tot_cur_bal', 'chargeoff_within_12_mths', 'pub_rec_bankruptcies', 'tax_liens',]\n",
    "\n",
    "# 수치형 변수들을 위 쪽의 train set과 똑같이 scaling 진행\n",
    "X_out_numeric = scaler.transform(X_out[numerical_cols])         # train set과 scaling 똑같이 적용\n",
    "\n",
    "# 더미변수도 추가해 Out of test 데이터 셋 구성 다시하기\n",
    "X_out_test = np.hstack((X_out_numeric, X_out.drop(numerical_cols, axis = 1)))"
   ]
  },
  {
   "cell_type": "code",
   "execution_count": 25,
   "metadata": {
    "id": "zluSDDBCokJU",
    "outputId": "9fd52541-b2c4-42a7-c9f3-17290ab98bdb"
   },
   "outputs": [
    {
     "data": {
      "image/png": "[encoded data removed]",
      "text/plain": [
       "<Figure size 640x480 with 2 Axes>"
      ]
     },
     "metadata": {},
     "output_type": "display_data"
    }
   ],
   "source": [
    "# Out of Test set을 모델에 적용\n",
    "y_pred_out = (best_lasso.predict_proba(X_out_test)[:, 1] > best_threshold).astype(int)\n",
    "\n",
    "# Out of Test set을 모델에 적용시킨 결과 Confusion Matrix 그리기\n",
    "cm_out = confusion_matrix(y_out_test, y_pred_out)\n",
    "sns.heatmap(cm_out, annot=True, fmt='d', cmap='Blues')\n",
    "plt.xlabel('Predicted Labels')\n",
    "plt.ylabel('True Labels')\n",
    "plt.title('Confusion Matrix')\n",
    "plt.show()"
   ]
  },
  {
   "cell_type": "code",
   "execution_count": 26,
   "metadata": {
    "id": "8X3TvnBvokJU",
    "outputId": "da4edd1c-7934-435f-b0b9-6daad96106a5"
   },
   "outputs": [
    {
     "name": "stdout",
     "output_type": "stream",
     "text": [
      "accuracy     :  0.8610740035867218\n",
      "sensitivity  :  0.006270627062706271\n",
      "specificity  :  0.9986350406832232\n",
      "f1_score     :  0.5963032056484372\n"
     ]
    }
   ],
   "source": [
    "# 모델의 평가 지표 확인\n",
    "\n",
    "tn = cm_out[0][0]\n",
    "fp = cm_out[0][1]\n",
    "fn = cm_out[1][0]\n",
    "tp = cm_out[1][1]\n",
    "\n",
    "# accuracy, sensitivity, specificity, f1_score\n",
    "accuracy = (tn + tp)/(tn + fn + fp + tp)\n",
    "sensitivity = tp/(tp+fn)\n",
    "specificity = tn/(tn+fp)\n",
    "precision = tp / (tp+fp)\n",
    "recall = specificity\n",
    "f1_score = 2*precision*recall / (precision + recall)\n",
    "\n",
    "print('accuracy     : ', accuracy)\n",
    "print('sensitivity  : ', sensitivity)\n",
    "print('specificity  : ', specificity)\n",
    "print('f1_score     : ', f1_score)"
   ]
  },
  {
   "cell_type": "markdown",
   "metadata": {
    "id": "9Rgcnu-VokJV"
   },
   "source": [
    "## Out of data (lendingclub_test.dta) 이익금 확인"
   ]
  },
  {
   "cell_type": "code",
   "execution_count": 27,
   "metadata": {
    "id": "t8NU5_yLokJV",
    "outputId": "a9b25f51-f49c-4331-b7b8-8262028bd3e2"
   },
   "outputs": [
    {
     "name": "stdout",
     "output_type": "stream",
     "text": [
      "1.0914570361300966\n",
      "3257320557.5768466\n",
      "2984378175\n",
      "272942382.5768466\n"
     ]
    }
   ],
   "source": [
    "# Out of data set에서\n",
    "# 수익률, 총 받은 금액, 총 투자한 금액, 총 순이익\n",
    "\n",
    "df_out_test = df_out_of_set.loc[y_out_test.index]\n",
    "print(sum(df_out_test['total_pymnt'])/sum(df_out_test['funded_amnt']))\n",
    "print(sum(df_out_test['total_pymnt']))\n",
    "print(sum(df_out_test['funded_amnt']))\n",
    "print(sum(df_out_test['total_pymnt']) - sum(df_out_test['funded_amnt']))"
   ]
  },
  {
   "cell_type": "code",
   "execution_count": 28,
   "metadata": {
    "id": "OMSPeyBkokJV",
    "outputId": "c4b7cbe7-593c-4896-eca7-c316b3155802"
   },
   "outputs": [
    {
     "name": "stdout",
     "output_type": "stream",
     "text": [
      "1.0916524389558595\n",
      "3249740090.945076\n",
      "2976899950\n",
      "272840140.945076\n"
     ]
    }
   ],
   "source": [
    "# Out of data set에서 모델링한 결과\n",
    "# 수익률, 총 받은 금액, 총 투자한 금액, 총 순이익\n",
    "\n",
    "df_out_test_loan_access = df_out_of_set.loc[y_out_test[y_pred_out == 0].index]\n",
    "print(sum(df_out_test_loan_access['total_pymnt'])/sum(df_out_test_loan_access['funded_amnt']))\n",
    "print(sum(df_out_test_loan_access['total_pymnt']))\n",
    "print(sum(df_out_test_loan_access['funded_amnt']))\n",
    "print(sum(df_out_test_loan_access['total_pymnt']) - sum(df_out_test_loan_access['funded_amnt']))"
   ]
  },
  {
   "cell_type": "markdown",
   "metadata": {
    "id": "ADl1itbIokJV"
   },
   "source": [
    "## 이익률 기준 threshold 설정"
   ]
  },
  {
   "cell_type": "code",
   "execution_count": 29,
   "metadata": {},
   "outputs": [
    {
     "name": "stdout",
     "output_type": "stream",
     "text": [
      "Best Threshold: 0.013564102427283007\n",
      "Best Profit_ratio: 0.11048988884645912\n"
     ]
    },
    {
     "data": {
      "image/png": "[encoded data removed]",
      "text/plain": [
       "<Figure size 1000x600 with 1 Axes>"
      ]
     },
     "metadata": {},
     "output_type": "display_data"
    }
   ],
   "source": [
    "# Validataion set을 사용해 Parameter (threshold) 찾기\n",
    "# net_profit_ratio(수익률)가 최대가 되게하는 optimal threshold 찾기\n",
    "\n",
    "# Validation set에 모델 적용\n",
    "y_pred_prob = best_lasso.predict_proba(X_val)[:, 1]\n",
    "\n",
    "\n",
    "# 최적화 부분\n",
    "best_threshold = None\n",
    "best_profit_ratio = float('-inf')\n",
    "profit_ratios = []\n",
    "\n",
    "for threshold in threshold_list:\n",
    "    y_pred = (y_pred_prob >= threshold).astype(int)\n",
    "    df_val_loan_access = df_all.loc[y_val[y_pred == 0].index]\n",
    "    total_pymnt = sum(df_val_loan_access['total_pymnt'])\n",
    "    funded_amnt = sum(df_val_loan_access['funded_amnt'])\n",
    "    if funded_amnt == 0:\n",
    "        funded_amnt = 1\n",
    "    net_profit_ratio = (total_pymnt - funded_amnt) / funded_amnt\n",
    "    profit_ratios.append(net_profit_ratio)\n",
    "    \n",
    "    if net_profit_ratio > best_profit_ratio:\n",
    "        best_profit_ratio = net_profit_ratio\n",
    "        best_threshold = threshold\n",
    "\n",
    "print(\"Best Threshold:\", best_threshold)\n",
    "print(\"Best Profit_ratio:\", best_profit_ratio)\n",
    "\n",
    "# 시각화\n",
    "plt.figure(figsize=(10, 6))\n",
    "plt.plot(threshold_list[1:], profit_ratios[1:], marker='o')\n",
    "plt.xlabel('Threshold')\n",
    "plt.ylabel('Net Profit Ratio')\n",
    "plt.title('Threshold vs. Net Profit Ratio')\n",
    "plt.grid(True)\n",
    "plt.show()"
   ]
  },
  {
   "cell_type": "code",
   "execution_count": 30,
   "metadata": {},
   "outputs": [
    {
     "data": {
      "image/png": "[encoded data removed]",
      "text/plain": [
       "<Figure size 640x480 with 2 Axes>"
      ]
     },
     "metadata": {},
     "output_type": "display_data"
    }
   ],
   "source": [
    "# Test set을 사용해 결과 확인\n",
    "\n",
    "# Test set을 모델에 적용\n",
    "y_pred1 = (best_lasso.predict_proba(X_test)[:, 1] > best_threshold).astype(int)\n",
    "\n",
    "# Test set을 모델에 적용시킨 결과 Confusion Matrix 그리기\n",
    "cm = confusion_matrix(y_test, y_pred1)\n",
    "sns.heatmap(cm, annot=True, fmt='d', cmap='Blues')\n",
    "plt.xlabel('Predicted Labels')\n",
    "plt.ylabel('True Labels')\n",
    "plt.title('Confusion Matrix')\n",
    "plt.show()"
   ]
  },
  {
   "cell_type": "code",
   "execution_count": 31,
   "metadata": {},
   "outputs": [
    {
     "name": "stdout",
     "output_type": "stream",
     "text": [
      "accuracy     :  0.14085562170106425\n",
      "sensitivity  :  0.9999185601433341\n",
      "specificity  :  0.0004989721174380776\n",
      "f1_score     :  0.0009944123888498955\n"
     ]
    }
   ],
   "source": [
    "# 모델의 평가 지표 확인\n",
    "\n",
    "tn = cm[0][0]\n",
    "fp = cm[0][1]\n",
    "fn = cm[1][0]\n",
    "tp = cm[1][1]\n",
    "\n",
    "# accuracy, sensitivity, specificity, f1_score\n",
    "accuracy = (tn + tp)/(tn + fn + fp + tp)\n",
    "sensitivity = tp/(tp+fn)\n",
    "specificity = tn/(tn+fp)\n",
    "precision = tp / (tp+fp)\n",
    "recall = specificity\n",
    "f1_score = 2*precision*recall / (precision + recall)\n",
    "\n",
    "print('accuracy     : ', accuracy)\n",
    "print('sensitivity  : ', sensitivity)\n",
    "print('specificity  : ', specificity)\n",
    "print('f1_score     : ', f1_score)"
   ]
  },
  {
   "cell_type": "markdown",
   "metadata": {},
   "source": [
    "## 주어진 data (lendingclub_train.dta) 이익률 확인"
   ]
  },
  {
   "cell_type": "code",
   "execution_count": 32,
   "metadata": {},
   "outputs": [],
   "source": [
    "# 이익금을 확인하기 위해 사후 변수들이 필요해 원래 데이터 파일 불러오기\n",
    "file_name2 = '/Users/limdonggeon/Desktop/SNU_FINTECH/Statics_DataScience_Statics/team_project/lendingclub_train.dta'\n",
    "df_all = pd.read_stata(file_name2)"
   ]
  },
  {
   "cell_type": "code",
   "execution_count": 33,
   "metadata": {},
   "outputs": [
    {
     "name": "stdout",
     "output_type": "stream",
     "text": [
      "1.1036978621429774\n",
      "1963809.6061109998\n",
      "1779300\n",
      "184509.60611099983\n"
     ]
    }
   ],
   "source": [
    "# 테스트 데이터셋에서 모델링한 결과\n",
    "# 수익률, 총 받은 금액, 총 투자한 금액, 총 순이익\n",
    "df_test_loan_access = df_all.loc[y_test[y_pred1 == 0].index]\n",
    "print(sum(df_test_loan_access['total_pymnt'])/sum(df_test_loan_access['funded_amnt']))\n",
    "print(sum(df_test_loan_access['total_pymnt']))\n",
    "print(sum(df_test_loan_access['funded_amnt']))\n",
    "print(sum(df_test_loan_access['total_pymnt']) - sum(df_test_loan_access['funded_amnt']))"
   ]
  },
  {
   "cell_type": "markdown",
   "metadata": {},
   "source": [
    "## Out of data (lendingclub_test.dta)  적용"
   ]
  },
  {
   "cell_type": "code",
   "execution_count": 34,
   "metadata": {},
   "outputs": [],
   "source": [
    "# Out of Data 파일 불러오기\n",
    "file_name_out_of_set = '/Users/limdonggeon/Desktop/SNU_FINTECH/Statics_DataScience_Statics/team_project/lendingclub_test.dta'\n",
    "df_out_of_set = pd.read_stata(file_name_out_of_set)"
   ]
  },
  {
   "cell_type": "code",
   "execution_count": 35,
   "metadata": {},
   "outputs": [
    {
     "name": "stderr",
     "output_type": "stream",
     "text": [
      "/var/folders/fs/zfypqyv96hs22x794hfx0ycm0000gn/T/ipykernel_12647/1095365893.py:2: PerformanceWarning: DataFrame is highly fragmented.  This is usually the result of calling `frame.insert` many times, which has poor performance.  Consider joining all columns at once using pd.concat(axis=1) instead. To get a de-fragmented frame, use `newframe = frame.copy()`\n",
      "  df_out_of_set['loan_not_access'] = np.where(df_out_of_set['funded_amnt'] > df_out_of_set['total_pymnt'], 1, 0)\n"
     ]
    },
    {
     "data": {
      "text/plain": [
       "30300"
      ]
     },
     "execution_count": 35,
     "metadata": {},
     "output_type": "execute_result"
    }
   ],
   "source": [
    "# Out of Data에서 돈을 벌어다 주는 loan_not_access 설정\n",
    "df_out_of_set['loan_not_access'] = np.where(df_out_of_set['funded_amnt'] > df_out_of_set['total_pymnt'], 1, 0)\n",
    "len(df_out_of_set[df_out_of_set['loan_not_access']==1])"
   ]
  },
  {
   "cell_type": "code",
   "execution_count": 36,
   "metadata": {},
   "outputs": [],
   "source": [
    "# 위의 데이터 셋에서 사용한 변수들만 사용\n",
    "df_out_of_set2 = df_out_of_set[df_data.columns]"
   ]
  },
  {
   "cell_type": "code",
   "execution_count": 37,
   "metadata": {},
   "outputs": [],
   "source": [
    "# Out of test를\n",
    "# X와 y로 데이터 분리\n",
    "X_out = df_out_of_set2.drop('loan_not_access', axis=1)\n",
    "y_out_test = df_out_of_set2['loan_not_access']\n",
    "\n",
    "# 수치형 변수들만 scaling 필요\n",
    "numerical_cols = ['loan_amnt', 'int_rate', 'annual_inc', 'dti', 'delinq_2yrs', 'open_acc', 'fico_range_low',\n",
    "        'pub_rec', 'revol_bal', 'revol_util', 'total_acc', 'acc_now_delinq', 'tot_coll_amt', 'tot_cur_bal', 'chargeoff_within_12_mths', 'pub_rec_bankruptcies', 'tax_liens',]\n",
    "\n",
    "# 수치형 변수들을 위 쪽의 train set과 똑같이 scaling 진행\n",
    "X_out_numeric = scaler.transform(X_out[numerical_cols])         # train set과 scaling 똑같이 적용\n",
    "\n",
    "# 더미변수도 추가해 Out of test 데이터 셋 구성 다시하기\n",
    "X_out_test = np.hstack((X_out_numeric, X_out.drop(numerical_cols, axis = 1)))"
   ]
  },
  {
   "cell_type": "code",
   "execution_count": 38,
   "metadata": {},
   "outputs": [
    {
     "data": {
      "image/png": "[encoded data removed]",
      "text/plain": [
       "<Figure size 640x480 with 2 Axes>"
      ]
     },
     "metadata": {},
     "output_type": "display_data"
    }
   ],
   "source": [
    "# Out of Test set을 모델에 적용\n",
    "y_pred_out = (best_lasso.predict_proba(X_out_test)[:, 1] > best_threshold).astype(int)\n",
    "\n",
    "# Out of Test set을 모델에 적용시킨 결과 Confusion Matrix 그리기\n",
    "cm_out = confusion_matrix(y_out_test, y_pred_out)\n",
    "sns.heatmap(cm_out, annot=True, fmt='d', cmap='Blues')\n",
    "plt.xlabel('Predicted Labels')\n",
    "plt.ylabel('True Labels')\n",
    "plt.title('Confusion Matrix')\n",
    "plt.show()"
   ]
  },
  {
   "cell_type": "code",
   "execution_count": 39,
   "metadata": {},
   "outputs": [
    {
     "name": "stdout",
     "output_type": "stream",
     "text": [
      "accuracy     :  0.13899004501701862\n",
      "sensitivity  :  0.9999669966996699\n",
      "specificity  :  0.0004355123111894797\n",
      "f1_score     :  0.0008682975657677947\n"
     ]
    }
   ],
   "source": [
    "# 모델의 평가 지표 확인\n",
    "\n",
    "tn = cm_out[0][0]\n",
    "fp = cm_out[0][1]\n",
    "fn = cm_out[1][0]\n",
    "tp = cm_out[1][1]\n",
    "\n",
    "# accuracy, sensitivity, specificity, f1_score\n",
    "accuracy = (tn + tp)/(tn + fn + fp + tp)\n",
    "sensitivity = tp/(tp+fn)\n",
    "specificity = tn/(tn+fp)\n",
    "precision = tp / (tp+fp)\n",
    "recall = specificity\n",
    "f1_score = 2*precision*recall / (precision + recall)\n",
    "\n",
    "print('accuracy     : ', accuracy)\n",
    "print('sensitivity  : ', sensitivity)\n",
    "print('specificity  : ', specificity)\n",
    "print('f1_score     : ', f1_score)"
   ]
  },
  {
   "cell_type": "markdown",
   "metadata": {},
   "source": [
    "## Out of data (lendingclub_test.dta) 이익률 확인"
   ]
  },
  {
   "cell_type": "code",
   "execution_count": 40,
   "metadata": {},
   "outputs": [
    {
     "name": "stdout",
     "output_type": "stream",
     "text": [
      "1.1063371251052774\n",
      "2298802.5954000005\n",
      "2077850\n",
      "220952.59540000046\n"
     ]
    }
   ],
   "source": [
    "# Out of data set에서 모델링한 결과\n",
    "# 수익률, 총 받은 금액, 총 투자한 금액, 총 순이익\n",
    "\n",
    "df_out_test_loan_access = df_out_of_set.loc[y_out_test[y_pred_out == 0].index]\n",
    "print(sum(df_out_test_loan_access['total_pymnt'])/sum(df_out_test_loan_access['funded_amnt']))\n",
    "print(sum(df_out_test_loan_access['total_pymnt']))\n",
    "print(sum(df_out_test_loan_access['funded_amnt']))\n",
    "print(sum(df_out_test_loan_access['total_pymnt']) - sum(df_out_test_loan_access['funded_amnt']))"
   ]
  },
  {
   "cell_type": "code",
   "execution_count": null,
   "metadata": {},
   "outputs": [],
   "source": []
  }
 ],
 "metadata": {
  "colab": {
   "provenance": []
  },
  "kernelspec": {
   "display_name": "Python 3 (ipykernel)",
   "language": "python",
   "name": "python3"
  },
  "language_info": {
   "codemirror_mode": {
    "name": "ipython",
    "version": 3
   },
   "file_extension": ".py",
   "mimetype": "text/x-python",
   "name": "python",
   "nbconvert_exporter": "python",
   "pygments_lexer": "ipython3",
   "version": "3.10.9"
  }
 },
 "nbformat": 4,
 "nbformat_minor": 1
}
