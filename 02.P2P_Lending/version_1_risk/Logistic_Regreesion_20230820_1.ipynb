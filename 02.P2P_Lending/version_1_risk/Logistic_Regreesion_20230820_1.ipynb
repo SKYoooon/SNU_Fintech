{
 "cells": [
  {
   "cell_type": "code",
   "execution_count": 1,
   "metadata": {
    "id": "vh3XufyVmJDr"
   },
   "outputs": [],
   "source": [
    "# 필요한 라이브러리 설치\n",
    "import math\n",
    "import pandas as pd\n",
    "import numpy as np\n",
    "import matplotlib.pyplot as plt\n",
    "import seaborn as sns\n",
    "\n",
    "from sklearn.linear_model import LogisticRegression\n",
    "from sklearn.model_selection import train_test_split\n",
    "from sklearn.preprocessing import StandardScaler\n",
    "from sklearn.metrics import confusion_matrix\n",
    "from sklearn.metrics import roc_curve"
   ]
  },
  {
   "cell_type": "markdown",
   "metadata": {},
   "source": [
    "## 주어진 data (lendingclub_train.dta) 전처리"
   ]
  },
  {
   "cell_type": "code",
   "execution_count": 2,
   "metadata": {
    "id": "d6cy36ennptj"
   },
   "outputs": [],
   "source": [
    "# 데이터 파일 불러오기\n",
    "file_name = '/Users/limdonggeon/Desktop/SNU_FINTECH/Statics_DataScience_Statics/team_project/lendingclub_train.dta'\n",
    "df = pd.read_stata(file_name)\n"
   ]
  },
  {
   "cell_type": "code",
   "execution_count": 3,
   "metadata": {
    "colab": {
     "base_uri": "https://localhost:8080/"
    },
    "executionInfo": {
     "elapsed": 12,
     "status": "ok",
     "timestamp": 1691078611065,
     "user": {
      "displayName": "임동건",
      "userId": "08266635345439810515"
     },
     "user_tz": -540
    },
    "id": "u2z3vKbqn5NW",
    "outputId": "12272e5e-a40a-4c51-c220-d698a2c01178"
   },
   "outputs": [
    {
     "data": {
      "text/plain": [
       "(874335, 334)"
      ]
     },
     "execution_count": 3,
     "metadata": {},
     "output_type": "execute_result"
    }
   ],
   "source": [
    "df.shape\n"
   ]
  },
  {
   "cell_type": "code",
   "execution_count": 4,
   "metadata": {
    "colab": {
     "base_uri": "https://localhost:8080/"
    },
    "executionInfo": {
     "elapsed": 10,
     "status": "ok",
     "timestamp": 1691078611065,
     "user": {
      "displayName": "임동건",
      "userId": "08266635345439810515"
     },
     "user_tz": -540
    },
    "id": "QIVzTtSRH4Vi",
    "outputId": "cc48f178-97f8-49dd-f8b2-6630919a742a",
    "scrolled": true
   },
   "outputs": [
    {
     "name": "stdout",
     "output_type": "stream",
     "text": [
      "Index(['index', 'loan_amnt', 'funded_amnt', 'funded_amnt_inv', 'int_rate',\n",
      "       'installment', 'annual_inc', 'dti', 'delinq_2yrs', 'fico_range_low',\n",
      "       ...\n",
      "       'mths_since_recent_revol_delinq2', 'mths_since_recent_revol_delinq3',\n",
      "       'mths_since_recent_revol_delinq4', 'mths_since_recent_revol_delinq5',\n",
      "       'mths_since_recent_revol_delinq6', 'mths_since_recent_revol_delinq7',\n",
      "       'mths_since_recent_revol_delinq8', 'mths_since_recent_revol_delinq9',\n",
      "       'mths_since_recent_revol_delinq10', 'mths_since_recent_revol_delinq11'],\n",
      "      dtype='object', length=334)\n"
     ]
    }
   ],
   "source": [
    "print(df.columns)\n"
   ]
  },
  {
   "cell_type": "code",
   "execution_count": 5,
   "metadata": {
    "colab": {
     "base_uri": "https://localhost:8080/"
    },
    "executionInfo": {
     "elapsed": 489,
     "status": "ok",
     "timestamp": 1691078611548,
     "user": {
      "displayName": "임동건",
      "userId": "08266635345439810515"
     },
     "user_tz": -540
    },
    "id": "hogyDDiE6t20",
    "outputId": "a9652c95-32ad-4446-f6b5-2cbc50a03ae6"
   },
   "outputs": [
    {
     "name": "stderr",
     "output_type": "stream",
     "text": [
      "/var/folders/fs/zfypqyv96hs22x794hfx0ycm0000gn/T/ipykernel_19735/2976678536.py:2: PerformanceWarning: DataFrame is highly fragmented.  This is usually the result of calling `frame.insert` many times, which has poor performance.  Consider joining all columns at once using pd.concat(axis=1) instead. To get a de-fragmented frame, use `newframe = frame.copy()`\n",
      "  df['loan_not_access'] = np.where(df['funded_amnt'] > df['total_pymnt'], 1, 0)\n"
     ]
    },
    {
     "data": {
      "text/plain": [
       "122790"
      ]
     },
     "execution_count": 5,
     "metadata": {},
     "output_type": "execute_result"
    }
   ],
   "source": [
    "# 데이터 파일에서 돈을 벌어다 주는 loan_not_access 설정\n",
    "df['loan_not_access'] = np.where(df['funded_amnt'] > df['total_pymnt'], 1, 0)\n",
    "len(df[df['loan_not_access']==1])\n"
   ]
  },
  {
   "cell_type": "code",
   "execution_count": 6,
   "metadata": {
    "id": "PE_HCpf66tli"
   },
   "outputs": [],
   "source": [
    "# 이상치라고 판단되는 값들 제거 ( EDA 총정리 코드에서 인덱스 확인 가능 )\n",
    "new_df = df.copy()\n",
    "delete_index = [331118, 829091, 474252, 733418]\n",
    "for k in range(df.shape[0]):\n",
    "    if df['index'].values[k] in delete_index:\n",
    "        new_df = new_df.drop(k, axis=0)\n"
   ]
  },
  {
   "cell_type": "code",
   "execution_count": 7,
   "metadata": {
    "id": "-Z0eUTi86tbQ"
   },
   "outputs": [],
   "source": [
    "# 원래 데이터에서 사전 변수라고 생각하는 데이터만 따로 뽑아 모델을 만들 데이터 셋 구축\n",
    "df_data= new_df[['loan_not_access', 'loan_amnt', 'int_rate', 'annual_inc', 'dti', 'delinq_2yrs', 'open_acc', 'fico_range_low','pub_rec', 'revol_bal',\n",
    "                 'revol_util', 'total_acc', 'acc_now_delinq', 'tot_coll_amt', 'tot_cur_bal', 'chargeoff_within_12_mths', 'pub_rec_bankruptcies', 'tax_liens',\n",
    "                 'emp_length1', 'emp_length2', 'emp_length3', 'emp_length4', 'emp_length5', 'emp_length6', 'emp_length7', 'emp_length8', 'emp_length9', 'emp_length10', 'emp_length11', 'emp_length12',\n",
    "                 'home_ownership1', 'home_ownership2', 'home_ownership3', 'home_ownership4', 'home_ownership5', 'home_ownership6', 'verification_status1', 'verification_status2', 'verification_status3',\n",
    "                 'purpose1', 'purpose2', 'purpose3', 'purpose4', 'purpose5', 'purpose6', 'purpose7', 'purpose8', 'purpose9', 'purpose10', 'purpose11', 'purpose12', 'purpose13', 'purpose14',\n",
    "                 'addr_state1', 'addr_state2', 'addr_state3', 'addr_state4', 'addr_state5', 'addr_state6', 'addr_state7', 'addr_state8', 'addr_state9', 'addr_state10',\n",
    "                 'addr_state11', 'addr_state12', 'addr_state13', 'addr_state14', 'addr_state15', 'addr_state16', 'addr_state17', 'addr_state18', 'addr_state19', 'addr_state20',\n",
    "                 'addr_state21', 'addr_state22', 'addr_state23', 'addr_state24', 'addr_state25', 'addr_state26', 'addr_state27', 'addr_state28', 'addr_state29', 'addr_state30',\n",
    "                 'addr_state31', 'addr_state32', 'addr_state33', 'addr_state34', 'addr_state35', 'addr_state36', 'addr_state37', 'addr_state38', 'addr_state39', 'addr_state40',\n",
    "                 'addr_state41', 'addr_state42', 'addr_state43', 'addr_state44', 'addr_state45', 'addr_state46', 'addr_state47', 'addr_state48', 'addr_state49', 'addr_state50',\n",
    "                 'addr_state51', 'initial_list_status1', 'initial_list_status2', 'term1']]\n"
   ]
  },
  {
   "cell_type": "code",
   "execution_count": 8,
   "metadata": {
    "id": "9D1zkw2v9J-h"
   },
   "outputs": [],
   "source": [
    "# 모델의 정확도를 높이기 위해 0의 값을 갖는 비율이 0.3% 이하를 갖는 컬럼을 제거\n",
    "for i in df_data.columns:\n",
    "    if len(df_data[df_data[i] == 0])/len(df_data[i]) > 0.997:\n",
    "        df_data = df_data.drop(i, axis=1)\n"
   ]
  },
  {
   "cell_type": "code",
   "execution_count": 9,
   "metadata": {},
   "outputs": [
    {
     "data": {
      "text/plain": [
       "Index(['loan_not_access', 'loan_amnt', 'int_rate', 'annual_inc', 'dti',\n",
       "       'delinq_2yrs', 'open_acc', 'fico_range_low', 'pub_rec', 'revol_bal',\n",
       "       'revol_util', 'total_acc', 'acc_now_delinq', 'tot_coll_amt',\n",
       "       'tot_cur_bal', 'chargeoff_within_12_mths', 'pub_rec_bankruptcies',\n",
       "       'tax_liens', 'emp_length1', 'emp_length2', 'emp_length3', 'emp_length4',\n",
       "       'emp_length5', 'emp_length6', 'emp_length7', 'emp_length8',\n",
       "       'emp_length9', 'emp_length10', 'emp_length11', 'emp_length12',\n",
       "       'home_ownership2', 'home_ownership5', 'home_ownership6',\n",
       "       'verification_status1', 'verification_status2', 'verification_status3',\n",
       "       'purpose1', 'purpose2', 'purpose3', 'purpose5', 'purpose6', 'purpose7',\n",
       "       'purpose8', 'purpose9', 'purpose10', 'purpose12', 'purpose13',\n",
       "       'addr_state2', 'addr_state3', 'addr_state4', 'addr_state5',\n",
       "       'addr_state6', 'addr_state7', 'addr_state10', 'addr_state11',\n",
       "       'addr_state12', 'addr_state15', 'addr_state16', 'addr_state17',\n",
       "       'addr_state18', 'addr_state19', 'addr_state20', 'addr_state21',\n",
       "       'addr_state23', 'addr_state24', 'addr_state25', 'addr_state26',\n",
       "       'addr_state28', 'addr_state31', 'addr_state32', 'addr_state33',\n",
       "       'addr_state34', 'addr_state35', 'addr_state36', 'addr_state37',\n",
       "       'addr_state38', 'addr_state39', 'addr_state40', 'addr_state41',\n",
       "       'addr_state43', 'addr_state44', 'addr_state45', 'addr_state46',\n",
       "       'addr_state48', 'addr_state49', 'addr_state50', 'initial_list_status1',\n",
       "       'initial_list_status2', 'term1'],\n",
       "      dtype='object')"
      ]
     },
     "execution_count": 9,
     "metadata": {},
     "output_type": "execute_result"
    }
   ],
   "source": [
    "df_data.columns\n"
   ]
  },
  {
   "cell_type": "markdown",
   "metadata": {
    "id": "03SgOu5CmwM7"
   },
   "source": [
    "## 모델 : 로지스틱회귀 - penalty = None"
   ]
  },
  {
   "cell_type": "code",
   "execution_count": 10,
   "metadata": {
    "id": "acRcFQPqHBRI"
   },
   "outputs": [],
   "source": [
    "# X와 y로 데이터 분리\n",
    "X = df_data.drop('loan_not_access', axis=1)\n",
    "y = df_data['loan_not_access']\n",
    "\n",
    "# 전체 데이터셋을 train:validation:test 셋을 6:2:2로 분리\n",
    "# 우선 전체 데이터를 train과 나머지로 분리 (train: 나머지 = 6:4)\n",
    "X_train_1, X_temp, y_train, y_temp = train_test_split(X, y, test_size=0.4, random_state=0, stratify=y)\n",
    "\n",
    "# 나머지 데이터를 validation과 test로 분리 (validation: test = 1:1)\n",
    "X_val_1, X_test_1, y_val, y_test = train_test_split(X_temp, y_temp, test_size=0.5, random_state=0, stratify=y_temp)\n",
    "\n",
    "\n",
    "# 수치형 변수들만 scaling 필요\n",
    "numerical_cols = ['loan_amnt', 'int_rate', 'annual_inc', 'dti', 'delinq_2yrs', 'open_acc', 'fico_range_low',\n",
    "        'pub_rec', 'revol_bal', 'revol_util', 'total_acc', 'acc_now_delinq', 'tot_coll_amt', 'tot_cur_bal', 'chargeoff_within_12_mths', 'pub_rec_bankruptcies', 'tax_liens']\n",
    "\n",
    "# 수치형 데이터 scaling\n",
    "scaler = StandardScaler()\n",
    "X_train_numeric = scaler.fit_transform(X_train_1[numerical_cols])\n",
    "X_val_numeric = scaler.transform(X_val_1[numerical_cols])            # train set과 scaling 똑같이 적용\n",
    "X_test_numeric = scaler.transform(X_test_1[numerical_cols])          # train set과 scaling 똑같이 적용\n",
    "\n",
    "# 더미변수도 추가해 train, validatiaon, test 데이터 셋 구성 다시하기\n",
    "X_train = np.hstack((X_train_numeric, X_train_1.drop(numerical_cols, axis = 1)))\n",
    "X_val = np.hstack((X_val_numeric, X_val_1.drop(numerical_cols, axis = 1)))\n",
    "X_test = np.hstack((X_test_numeric, X_test_1.drop(numerical_cols, axis = 1)))\n"
   ]
  },
  {
   "cell_type": "code",
   "execution_count": 30,
   "metadata": {},
   "outputs": [
    {
     "data": {
      "text/plain": [
       "((524598, 88), (174866, 88), (174867, 88), (524598,), (174866,), (174867,))"
      ]
     },
     "execution_count": 30,
     "metadata": {},
     "output_type": "execute_result"
    }
   ],
   "source": [
    "# 나눈 데이터 셋 크기 확인\n",
    "X_train.shape, X_val.shape, X_test.shape, y_train.shape, y_val.shape, y_test.shape\n"
   ]
  },
  {
   "cell_type": "code",
   "execution_count": 12,
   "metadata": {
    "colab": {
     "base_uri": "https://localhost:8080/",
     "height": 74
    },
    "executionInfo": {
     "elapsed": 26045,
     "status": "ok",
     "timestamp": 1691078667797,
     "user": {
      "displayName": "임동건",
      "userId": "08266635345439810515"
     },
     "user_tz": -540
    },
    "id": "v7iP-aq4SOci",
    "outputId": "d7d533e9-c23d-471f-9e95-ef06cfb72b1d"
   },
   "outputs": [
    {
     "data": {
      "text/html": [
       "<style>#sk-container-id-1 {color: black;background-color: white;}#sk-container-id-1 pre{padding: 0;}#sk-container-id-1 div.sk-toggleable {background-color: white;}#sk-container-id-1 label.sk-toggleable__label {cursor: pointer;display: block;width: 100%;margin-bottom: 0;padding: 0.3em;box-sizing: border-box;text-align: center;}#sk-container-id-1 label.sk-toggleable__label-arrow:before {content: \"▸\";float: left;margin-right: 0.25em;color: #696969;}#sk-container-id-1 label.sk-toggleable__label-arrow:hover:before {color: black;}#sk-container-id-1 div.sk-estimator:hover label.sk-toggleable__label-arrow:before {color: black;}#sk-container-id-1 div.sk-toggleable__content {max-height: 0;max-width: 0;overflow: hidden;text-align: left;background-color: #f0f8ff;}#sk-container-id-1 div.sk-toggleable__content pre {margin: 0.2em;color: black;border-radius: 0.25em;background-color: #f0f8ff;}#sk-container-id-1 input.sk-toggleable__control:checked~div.sk-toggleable__content {max-height: 200px;max-width: 100%;overflow: auto;}#sk-container-id-1 input.sk-toggleable__control:checked~label.sk-toggleable__label-arrow:before {content: \"▾\";}#sk-container-id-1 div.sk-estimator input.sk-toggleable__control:checked~label.sk-toggleable__label {background-color: #d4ebff;}#sk-container-id-1 div.sk-label input.sk-toggleable__control:checked~label.sk-toggleable__label {background-color: #d4ebff;}#sk-container-id-1 input.sk-hidden--visually {border: 0;clip: rect(1px 1px 1px 1px);clip: rect(1px, 1px, 1px, 1px);height: 1px;margin: -1px;overflow: hidden;padding: 0;position: absolute;width: 1px;}#sk-container-id-1 div.sk-estimator {font-family: monospace;background-color: #f0f8ff;border: 1px dotted black;border-radius: 0.25em;box-sizing: border-box;margin-bottom: 0.5em;}#sk-container-id-1 div.sk-estimator:hover {background-color: #d4ebff;}#sk-container-id-1 div.sk-parallel-item::after {content: \"\";width: 100%;border-bottom: 1px solid gray;flex-grow: 1;}#sk-container-id-1 div.sk-label:hover label.sk-toggleable__label {background-color: #d4ebff;}#sk-container-id-1 div.sk-serial::before {content: \"\";position: absolute;border-left: 1px solid gray;box-sizing: border-box;top: 0;bottom: 0;left: 50%;z-index: 0;}#sk-container-id-1 div.sk-serial {display: flex;flex-direction: column;align-items: center;background-color: white;padding-right: 0.2em;padding-left: 0.2em;position: relative;}#sk-container-id-1 div.sk-item {position: relative;z-index: 1;}#sk-container-id-1 div.sk-parallel {display: flex;align-items: stretch;justify-content: center;background-color: white;position: relative;}#sk-container-id-1 div.sk-item::before, #sk-container-id-1 div.sk-parallel-item::before {content: \"\";position: absolute;border-left: 1px solid gray;box-sizing: border-box;top: 0;bottom: 0;left: 50%;z-index: -1;}#sk-container-id-1 div.sk-parallel-item {display: flex;flex-direction: column;z-index: 1;position: relative;background-color: white;}#sk-container-id-1 div.sk-parallel-item:first-child::after {align-self: flex-end;width: 50%;}#sk-container-id-1 div.sk-parallel-item:last-child::after {align-self: flex-start;width: 50%;}#sk-container-id-1 div.sk-parallel-item:only-child::after {width: 0;}#sk-container-id-1 div.sk-dashed-wrapped {border: 1px dashed gray;margin: 0 0.4em 0.5em 0.4em;box-sizing: border-box;padding-bottom: 0.4em;background-color: white;}#sk-container-id-1 div.sk-label label {font-family: monospace;font-weight: bold;display: inline-block;line-height: 1.2em;}#sk-container-id-1 div.sk-label-container {text-align: center;}#sk-container-id-1 div.sk-container {/* jupyter's `normalize.less` sets `[hidden] { display: none; }` but bootstrap.min.css set `[hidden] { display: none !important; }` so we also need the `!important` here to be able to override the default hidden behavior on the sphinx rendered scikit-learn.org. See: https://github.com/scikit-learn/scikit-learn/issues/21755 */display: inline-block !important;position: relative;}#sk-container-id-1 div.sk-text-repr-fallback {display: none;}</style><div id=\"sk-container-id-1\" class=\"sk-top-container\"><div class=\"sk-text-repr-fallback\"><pre>LogisticRegression(max_iter=10000, penalty=None, random_state=0, solver=&#x27;saga&#x27;)</pre><b>In a Jupyter environment, please rerun this cell to show the HTML representation or trust the notebook. <br />On GitHub, the HTML representation is unable to render, please try loading this page with nbviewer.org.</b></div><div class=\"sk-container\" hidden><div class=\"sk-item\"><div class=\"sk-estimator sk-toggleable\"><input class=\"sk-toggleable__control sk-hidden--visually\" id=\"sk-estimator-id-1\" type=\"checkbox\" checked><label for=\"sk-estimator-id-1\" class=\"sk-toggleable__label sk-toggleable__label-arrow\">LogisticRegression</label><div class=\"sk-toggleable__content\"><pre>LogisticRegression(max_iter=10000, penalty=None, random_state=0, solver=&#x27;saga&#x27;)</pre></div></div></div></div></div>"
      ],
      "text/plain": [
       "LogisticRegression(max_iter=10000, penalty=None, random_state=0, solver='saga')"
      ]
     },
     "execution_count": 12,
     "metadata": {},
     "output_type": "execute_result"
    }
   ],
   "source": [
    "# 로지스틱회귀 (penalty=None) 모델 생성\n",
    "logreg_model = LogisticRegression(penalty=None, solver='saga', random_state=0, max_iter = 10000)\n",
    "\n",
    "# train data에 대한 모델 훈련\n",
    "logreg_model.fit(X_train, y_train)\n"
   ]
  },
  {
   "cell_type": "code",
   "execution_count": 13,
   "metadata": {
    "colab": {
     "base_uri": "https://localhost:8080/"
    },
    "executionInfo": {
     "elapsed": 4,
     "status": "ok",
     "timestamp": 1691078667797,
     "user": {
      "displayName": "임동건",
      "userId": "08266635345439810515"
     },
     "user_tz": -540
    },
    "id": "G9jEAoa7R7AU",
    "outputId": "12c9d395-181c-4438-d3d1-9d5e2f935b19"
   },
   "outputs": [
    {
     "name": "stdout",
     "output_type": "stream",
     "text": [
      "0.06034688550002829\n",
      "0.32322158106816584\n"
     ]
    }
   ],
   "source": [
    "# Validataion set을 사용해 Parameter (threshold) 찾기\n",
    "# Risk( = ( fpr*0.86*0.18 + (1-tpr)*0.14*0.44 ) )가 값에 최소가 되게하는 optimal threshold 찾기\n",
    "\n",
    "# Validation set에 모델 적용\n",
    "y_pred = logreg_model.predict_proba(X_val)[:, 1]\n",
    "\n",
    "# ROC curve 값들 계산\n",
    "fpr, tpr, thresholds = roc_curve(y_val, y_pred)\n",
    "\n",
    "# Risk가 최소값이 되는 threshold 찾기\n",
    "min_revenue_risk = np.min(fpr * 0.86 * 0.18 + (1-tpr) * 0.44 * 0.14)\n",
    "optimal_thresholds = thresholds[np.argmin(fpr * 0.86 * 0.18 + (1-tpr) * 0.44 * 0.14)]\n",
    "print(min_revenue_risk)\n",
    "print(optimal_thresholds)"
   ]
  },
  {
   "cell_type": "code",
   "execution_count": 14,
   "metadata": {
    "colab": {
     "base_uri": "https://localhost:8080/",
     "height": 489
    },
    "executionInfo": {
     "elapsed": 689,
     "status": "ok",
     "timestamp": 1691078668484,
     "user": {
      "displayName": "임동건",
      "userId": "08266635345439810515"
     },
     "user_tz": -540
    },
    "id": "qlM2Z3aHyYsq",
    "outputId": "9d4940e2-15bb-491e-c081-e9673b2199e2"
   },
   "outputs": [
    {
     "data": {
      "image/png": "[encoded data removed]",
      "text/plain": [
       "<Figure size 640x480 with 2 Axes>"
      ]
     },
     "metadata": {},
     "output_type": "display_data"
    }
   ],
   "source": [
    "# Test set을 사용해 결과 확인\n",
    "\n",
    "# Test set을 모델에 적용\n",
    "y_pred1 = (logreg_model.predict_proba(X_test)[:, 1] > optimal_thresholds).astype(int)\n",
    "\n",
    "# Test set을 모델에 적용시킨 결과 Confusion Matrix 그리기\n",
    "cm = confusion_matrix(y_test, y_pred1)\n",
    "sns.heatmap(cm, annot=True, fmt='d', cmap='Blues')\n",
    "plt.xlabel('Predicted Labels')\n",
    "plt.ylabel('True Labels')\n",
    "plt.title('Confusion Matrix')\n",
    "plt.show()"
   ]
  },
  {
   "cell_type": "code",
   "execution_count": 35,
   "metadata": {
    "id": "cShgwBeTR5mv",
    "scrolled": true
   },
   "outputs": [
    {
     "name": "stdout",
     "output_type": "stream",
     "text": [
      "accuracy     :  0.848759342814825\n",
      "sensitivity  :  0.08241713494584249\n",
      "specificity  :  0.973966961392864\n",
      "f1_score     :  0.5050467723428517\n",
      "revenue_risk : 10619.300000000001\n"
     ]
    }
   ],
   "source": [
    "# 모델의 평가 지표 확인\n",
    "\n",
    "tn = cm[0][0]\n",
    "fp = cm[0][1]\n",
    "fn = cm[1][0]\n",
    "tp = cm[1][1]\n",
    "\n",
    "# accuracy, sensitivity, specificity, f1_score, revenue_risk\n",
    "accuracy = (tn + tp)/(tn + fn + fp + tp)\n",
    "sensitivity = tp/(tp+fn)\n",
    "specificity = tn/(tn+fp)\n",
    "precision = tp / (tp+fp)\n",
    "recall = specificity\n",
    "f1_score = 2*precision*recall / (precision + recall)\n",
    "revenue_risk = fp*0.18 + fn*0.44\n",
    "\n",
    "print('accuracy     : ', accuracy)\n",
    "print('sensitivity  : ', sensitivity)\n",
    "print('specificity  : ', specificity)\n",
    "print('f1_score     : ', f1_score)\n",
    "print('revenue_risk :', revenue_risk)\n"
   ]
  },
  {
   "cell_type": "markdown",
   "metadata": {},
   "source": [
    "## 주어진 data (lendingclub_train.dta) 이익금 확인"
   ]
  },
  {
   "cell_type": "code",
   "execution_count": 15,
   "metadata": {
    "id": "ldLBtUlY0-Ds"
   },
   "outputs": [],
   "source": [
    "# 이익금을 확인하기 위해 사후 변수들이 필요해 원래 데이터 파일 불러오기\n",
    "file_name2 = '/Users/limdonggeon/Desktop/SNU_FINTECH/Statics_DataScience_Statics/team_project/lendingclub_train.dta'\n",
    "df_all = pd.read_stata(file_name2)\n"
   ]
  },
  {
   "cell_type": "code",
   "execution_count": 16,
   "metadata": {
    "colab": {
     "base_uri": "https://localhost:8080/"
    },
    "executionInfo": {
     "elapsed": 467,
     "status": "ok",
     "timestamp": 1691078675262,
     "user": {
      "displayName": "임동건",
      "userId": "08266635345439810515"
     },
     "user_tz": -540
    },
    "id": "SUdwBA8A0SWB",
    "outputId": "d724e4dc-e0e4-41e1-f0dd-414777fd2078"
   },
   "outputs": [
    {
     "name": "stdout",
     "output_type": "stream",
     "text": [
      "1.0908315080802833\n",
      "13013512253.598719\n",
      "11929901325\n",
      "1083610928.5987186\n"
     ]
    }
   ],
   "source": [
    "# 전체 데이터셋에서\n",
    "# 수익률, 총 받은 금액, 총 투자한 금액, 총 순이익\n",
    "print(sum(df_all['total_pymnt'])/sum(df_all['funded_amnt']))\n",
    "print(sum(df_all['total_pymnt']))\n",
    "print(sum(df_all['funded_amnt']))\n",
    "print(sum(df_all['total_pymnt']) - sum(df_all['funded_amnt']))\n"
   ]
  },
  {
   "cell_type": "code",
   "execution_count": 17,
   "metadata": {
    "colab": {
     "base_uri": "https://localhost:8080/"
    },
    "executionInfo": {
     "elapsed": 924,
     "status": "ok",
     "timestamp": 1691078676185,
     "user": {
      "displayName": "임동건",
      "userId": "08266635345439810515"
     },
     "user_tz": -540
    },
    "id": "uctRawzEzHEZ",
    "outputId": "be16874f-41a9-4b97-8481-323dfa9cc093"
   },
   "outputs": [
    {
     "name": "stdout",
     "output_type": "stream",
     "text": [
      "1.0905922431935813\n",
      "2596459846.307935\n",
      "2380779675\n",
      "215680171.30793524\n"
     ]
    }
   ],
   "source": [
    "# 테스트 데이터셋에서\n",
    "# 수익률, 총 받은 금액, 총 투자한 금액, 총 순이익\n",
    "df_test = df_all.loc[y_test.index]\n",
    "print(sum(df_test['total_pymnt'])/sum(df_test['funded_amnt']))\n",
    "print(sum(df_test['total_pymnt']))\n",
    "print(sum(df_test['funded_amnt']))\n",
    "print(sum(df_test['total_pymnt']) - sum(df_test['funded_amnt']))\n"
   ]
  },
  {
   "cell_type": "code",
   "execution_count": 18,
   "metadata": {
    "colab": {
     "base_uri": "https://localhost:8080/"
    },
    "executionInfo": {
     "elapsed": 478,
     "status": "ok",
     "timestamp": 1691078676658,
     "user": {
      "displayName": "임동건",
      "userId": "08266635345439810515"
     },
     "user_tz": -540
    },
    "id": "KYmadYVYzJBZ",
    "outputId": "e2151006-fbeb-4f8f-faa2-a233b785ab7b"
   },
   "outputs": [
    {
     "name": "stdout",
     "output_type": "stream",
     "text": [
      "1.0909983231826754\n",
      "2484241203.178515\n",
      "2277034850\n",
      "207206353.17851496\n"
     ]
    }
   ],
   "source": [
    "# 테스트 데이터셋에서 모델링한 결과\n",
    "# 수익률, 총 받은 금액, 총 투자한 금액, 총 순이익\n",
    "df_test_loan_access = df_all.loc[y_test[y_pred1 == 0].index]\n",
    "print(sum(df_test_loan_access['total_pymnt'])/sum(df_test_loan_access['funded_amnt']))\n",
    "print(sum(df_test_loan_access['total_pymnt']))\n",
    "print(sum(df_test_loan_access['funded_amnt']))\n",
    "print(sum(df_test_loan_access['total_pymnt']) - sum(df_test_loan_access['funded_amnt']))\n"
   ]
  },
  {
   "cell_type": "markdown",
   "metadata": {},
   "source": [
    "## Out of data (lendingclub_test.dta)  적용"
   ]
  },
  {
   "cell_type": "code",
   "execution_count": 20,
   "metadata": {},
   "outputs": [],
   "source": [
    "# Out of Data 파일 불러오기\n",
    "file_name_out_of_set = '/Users/limdonggeon/Desktop/SNU_FINTECH/Statics_DataScience_Statics/team_project/lendingclub_test.dta'\n",
    "df_out_of_set = pd.read_stata(file_name_out_of_set)\n"
   ]
  },
  {
   "cell_type": "code",
   "execution_count": 21,
   "metadata": {},
   "outputs": [
    {
     "data": {
      "text/plain": [
       "(218584, 334)"
      ]
     },
     "execution_count": 21,
     "metadata": {},
     "output_type": "execute_result"
    }
   ],
   "source": [
    "df_out_of_set.shape"
   ]
  },
  {
   "cell_type": "code",
   "execution_count": 22,
   "metadata": {},
   "outputs": [
    {
     "name": "stderr",
     "output_type": "stream",
     "text": [
      "/var/folders/fs/zfypqyv96hs22x794hfx0ycm0000gn/T/ipykernel_19735/2614212035.py:2: PerformanceWarning: DataFrame is highly fragmented.  This is usually the result of calling `frame.insert` many times, which has poor performance.  Consider joining all columns at once using pd.concat(axis=1) instead. To get a de-fragmented frame, use `newframe = frame.copy()`\n",
      "  df_out_of_set['loan_not_access'] = np.where(df_out_of_set['funded_amnt'] > df_out_of_set['total_pymnt'], 1, 0)\n"
     ]
    },
    {
     "data": {
      "text/plain": [
       "30300"
      ]
     },
     "execution_count": 22,
     "metadata": {},
     "output_type": "execute_result"
    }
   ],
   "source": [
    "# Out of Data에서 돈을 벌어다 주는 loan_not_access 설정\n",
    "df_out_of_set['loan_not_access'] = np.where(df_out_of_set['funded_amnt'] > df_out_of_set['total_pymnt'], 1, 0)\n",
    "len(df_out_of_set[df_out_of_set['loan_not_access']==1])"
   ]
  },
  {
   "cell_type": "code",
   "execution_count": 23,
   "metadata": {},
   "outputs": [],
   "source": [
    "# 위의 데이터 셋에서 사용한 변수들만 사용\n",
    "df_out_of_set2 = df_out_of_set[df_data.columns]\n"
   ]
  },
  {
   "cell_type": "code",
   "execution_count": 24,
   "metadata": {},
   "outputs": [],
   "source": [
    "# Out of test를 \n",
    "# X와 y로 데이터 분리\n",
    "X_out = df_out_of_set2.drop('loan_not_access', axis=1)\n",
    "y_out_test = df_out_of_set2['loan_not_access']\n",
    "\n",
    "# 수치형 변수들만 scaling 필요\n",
    "numerical_cols = ['loan_amnt', 'int_rate', 'annual_inc', 'dti', 'delinq_2yrs', 'open_acc', 'fico_range_low',\n",
    "        'pub_rec', 'revol_bal', 'revol_util', 'total_acc', 'acc_now_delinq', 'tot_coll_amt', 'tot_cur_bal', 'chargeoff_within_12_mths', 'pub_rec_bankruptcies', 'tax_liens',]\n",
    "\n",
    "# 수치형 변수들을 위 쪽의 train set과 똑같이 scaling 진행\n",
    "X_out_numeric = scaler.transform(X_out[numerical_cols])         # train set과 scaling 똑같이 적용\n",
    "\n",
    "# 더미변수도 추가해 Out of test 데이터 셋 구성 다시하기\n",
    "X_out_test = np.hstack((X_out_numeric, X_out.drop(numerical_cols, axis = 1)))"
   ]
  },
  {
   "cell_type": "code",
   "execution_count": 25,
   "metadata": {},
   "outputs": [
    {
     "name": "stdout",
     "output_type": "stream",
     "text": [
      "4783\n"
     ]
    },
    {
     "data": {
      "image/png": "[encoded data removed]",
      "text/plain": [
       "<Figure size 640x480 with 2 Axes>"
      ]
     },
     "metadata": {},
     "output_type": "display_data"
    }
   ],
   "source": [
    "# Out of Test set을 모델에 적용\n",
    "y_pred_out = (logreg_model.predict_proba(X_out_test)[:, 1] > optimal_thresholds).astype(int)\n",
    "\n",
    "# Out of Test set을 모델에 적용시킨 결과 Confusion Matrix 그리기\n",
    "cm_out = confusion_matrix(y_out_test, y_pred_out)\n",
    "sns.heatmap(cm_out, annot=True, fmt='d', cmap='Blues')\n",
    "plt.xlabel('Predicted Labels')\n",
    "plt.ylabel('True Labels')\n",
    "plt.title('Confusion Matrix')\n",
    "plt.show()"
   ]
  },
  {
   "cell_type": "code",
   "execution_count": 33,
   "metadata": {},
   "outputs": [
    {
     "name": "stdout",
     "output_type": "stream",
     "text": [
      "accuracy     :  0.850862826190389\n",
      "sensitivity  :  0.08198019801980198\n",
      "specificity  :  0.9745968855558624\n",
      "f1_score     :  0.5061255614365764\n",
      "revenue_risk : 13099.980000000001\n"
     ]
    }
   ],
   "source": [
    "# 모델의 평가 지표 확인\n",
    "\n",
    "tn = cm_out[0][0]\n",
    "fp = cm_out[0][1]\n",
    "fn = cm_out[1][0]\n",
    "tp = cm_out[1][1]\n",
    "\n",
    "# accuracy, sensitivity, specificity, f1_score, revenue_risk\n",
    "accuracy = (tn + tp)/(tn + fn + fp + tp)\n",
    "sensitivity = tp/(tp+fn)\n",
    "specificity = tn/(tn+fp)\n",
    "precision = tp / (tp+fp)\n",
    "recall = specificity\n",
    "f1_score = 2*precision*recall / (precision + recall)\n",
    "revenue_risk = fp*0.18 + fn*0.44\n",
    "\n",
    "print('accuracy     : ', accuracy)\n",
    "print('sensitivity  : ', sensitivity)\n",
    "print('specificity  : ', specificity)\n",
    "print('f1_score     : ', f1_score)\n",
    "print('revenue_risk :', revenue_risk)"
   ]
  },
  {
   "cell_type": "markdown",
   "metadata": {},
   "source": [
    "## Out of data (lendingclub_test.dta) 이익금 확인"
   ]
  },
  {
   "cell_type": "code",
   "execution_count": 26,
   "metadata": {},
   "outputs": [
    {
     "name": "stdout",
     "output_type": "stream",
     "text": [
      "1.0914570361300966\n",
      "3257320557.5768466\n",
      "2984378175\n",
      "272942382.5768466\n"
     ]
    }
   ],
   "source": [
    "# Out of data set에서\n",
    "# 수익률, 총 받은 금액, 총 투자한 금액, 총 순이익\n",
    "\n",
    "df_out_test = df_out_of_set.loc[y_out_test.index]\n",
    "print(sum(df_out_test['total_pymnt'])/sum(df_out_test['funded_amnt']))\n",
    "print(sum(df_out_test['total_pymnt']))\n",
    "print(sum(df_out_test['funded_amnt']))\n",
    "print(sum(df_out_test['total_pymnt']) - sum(df_out_test['funded_amnt']))"
   ]
  },
  {
   "cell_type": "code",
   "execution_count": 27,
   "metadata": {},
   "outputs": [
    {
     "name": "stdout",
     "output_type": "stream",
     "text": [
      "1.0921188483075306\n",
      "3121925096.9360685\n",
      "2858594650\n",
      "263330446.93606853\n"
     ]
    }
   ],
   "source": [
    "# Out of data set에서 모델링한 결과\n",
    "# 수익률, 총 받은 금액, 총 투자한 금액, 총 순이익\n",
    "\n",
    "df_out_test_loan_access = df_out_of_set.loc[y_out_test[y_pred_out == 0].index]\n",
    "print(sum(df_out_test_loan_access['total_pymnt'])/sum(df_out_test_loan_access['funded_amnt']))\n",
    "print(sum(df_out_test_loan_access['total_pymnt']))\n",
    "print(sum(df_out_test_loan_access['funded_amnt']))\n",
    "print(sum(df_out_test_loan_access['total_pymnt']) - sum(df_out_test_loan_access['funded_amnt']))"
   ]
  },
  {
   "cell_type": "code",
   "execution_count": null,
   "metadata": {},
   "outputs": [],
   "source": []
  }
 ],
 "metadata": {
  "colab": {
   "provenance": []
  },
  "kernelspec": {
   "display_name": "Python 3 (ipykernel)",
   "language": "python",
   "name": "python3"
  },
  "language_info": {
   "codemirror_mode": {
    "name": "ipython",
    "version": 3
   },
   "file_extension": ".py",
   "mimetype": "text/x-python",
   "name": "python",
   "nbconvert_exporter": "python",
   "pygments_lexer": "ipython3",
   "version": "3.10.9"
  }
 },
 "nbformat": 4,
 "nbformat_minor": 1
}
